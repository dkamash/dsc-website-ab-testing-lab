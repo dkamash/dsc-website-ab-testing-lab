{
 "cells": [
  {
   "cell_type": "markdown",
   "metadata": {},
   "source": [
    "# Website A/B Testing - Lab\n",
    "\n",
    "## Introduction\n",
    "\n",
    "In this lab, you'll get another chance to practice your skills at conducting a full A/B test analysis. It will also be a chance to practice your data exploration and processing skills! The scenario you'll be investigating is data collected from the homepage of a music app page for audacity.\n",
    "\n",
    "## Objectives\n",
    "\n",
    "You will be able to:\n",
    "* Analyze the data from a website A/B test to draw relevant conclusions\n",
    "* Explore and analyze web action data"
   ]
  },
  {
   "cell_type": "markdown",
   "metadata": {},
   "source": [
    "## Exploratory Analysis\n",
    "\n",
    "Start by loading in the dataset stored in the file 'homepage_actions.csv'. Then conduct an exploratory analysis to get familiar with the data."
   ]
  },
  {
   "cell_type": "markdown",
   "metadata": {},
   "source": [
    "> Hints:\n",
    "    * Start investigating the id column:\n",
    "        * How many viewers also clicked?\n",
    "        * Are there any anomalies with the data; did anyone click who didn't view?\n",
    "        * Is there any overlap between the control and experiment groups? \n",
    "            * If so, how do you plan to account for this in your experimental design?"
   ]
  },
  {
   "cell_type": "code",
   "execution_count": 1,
   "metadata": {},
   "outputs": [
    {
     "name": "stdout",
     "output_type": "stream",
     "text": [
      "<class 'pandas.core.frame.DataFrame'>\n",
      "RangeIndex: 8188 entries, 0 to 8187\n",
      "Data columns (total 4 columns):\n",
      " #   Column     Non-Null Count  Dtype \n",
      "---  ------     --------------  ----- \n",
      " 0   timestamp  8188 non-null   object\n",
      " 1   id         8188 non-null   int64 \n",
      " 2   group      8188 non-null   object\n",
      " 3   action     8188 non-null   object\n",
      "dtypes: int64(1), object(3)\n",
      "memory usage: 256.0+ KB\n",
      "Number of unique users: 6328\n",
      "Viewers: 6328\n",
      "Clickers: 1860\n",
      "Users who clicked without viewing: 0\n",
      "Number of users in multiple groups: 0\n",
      "CTR by group:\n",
      " group\n",
      "control       0.279712\n",
      "experiment    0.309746\n",
      "Name: clicked, dtype: float64\n"
     ]
    }
   ],
   "source": [
    "import pandas as pd\n",
    "\n",
    "# Load the homepage_actions.csv dataset\n",
    "df = pd.read_csv(\"homepage_actions.csv\")\n",
    "\n",
    "# Preview the first few rows to understand the structure of the data\n",
    "df.head()\n",
    "\n",
    "# Check basic info about columns, datatypes, and missing values\n",
    "df.info()\n",
    "\n",
    "# Check summary statistics for numeric columns\n",
    "df.describe()\n",
    "\n",
    "# How many unique users are in the dataset?\n",
    "unique_users = df[\"id\"].nunique()\n",
    "print(\"Number of unique users:\", unique_users)\n",
    "\n",
    "# Count how many users viewed the homepage\n",
    "viewers = df[df['action'] == 'view']['id'].nunique()\n",
    "\n",
    "# Count how many users clicked\n",
    "clickers = df[df['action'] == 'click']['id'].nunique()\n",
    "\n",
    "print(\"Viewers:\", viewers)\n",
    "print(\"Clickers:\", clickers)\n",
    "\n",
    "# Check if there are anomalies (users who clicked but never viewed)\n",
    "anomalies = set(df[df['action'] == 'click']['id']) - set(df[df['action'] == 'view']['id'])\n",
    "print(\"Users who clicked without viewing:\", len(anomalies))\n",
    "\n",
    "# Check number of users in each group\n",
    "df.groupby(\"group\")[\"id\"].nunique()\n",
    "\n",
    "# Verify if any users are in both groups (overlap issue)\n",
    "overlap = df.groupby(\"id\")[\"group\"].nunique()\n",
    "print(\"Number of users in multiple groups:\", sum(overlap > 1))\n",
    "\n",
    "# Create a user-level dataset (one row per user)\n",
    "# Pivot so we know whether a user viewed and/or clicked\n",
    "user_df = df.pivot_table(\n",
    "    index=\"id\",\n",
    "    columns=\"action\",\n",
    "    values=\"group\",\n",
    "    aggfunc=\"first\"\n",
    ").reset_index()\n",
    "\n",
    "# Add group column\n",
    "user_group = df.groupby(\"id\")[\"group\"].first().reset_index()\n",
    "user_df = user_df.merge(user_group, on=\"id\")\n",
    "\n",
    "# Create a binary variable for whether the user clicked\n",
    "user_df[\"clicked\"] = user_df[\"click\"].notnull().astype(int)\n",
    "\n",
    "user_df.head()\n",
    "\n",
    "# Click-through rate (CTR) for control and experiment\n",
    "ctr = user_df.groupby(\"group\")[\"clicked\"].mean()\n",
    "print(\"CTR by group:\\n\", ctr)"
   ]
  },
  {
   "cell_type": "markdown",
   "metadata": {},
   "source": [
    "## Conduct a Statistical Test\n",
    "\n",
    "Conduct a statistical test to determine whether the experimental homepage was more effective than that of the control group."
   ]
  },
  {
   "cell_type": "code",
   "execution_count": 2,
   "metadata": {},
   "outputs": [
    {
     "name": "stdout",
     "output_type": "stream",
     "text": [
      "Z-statistic: -2.618563885349469, P-value: 0.008830075576595804\n"
     ]
    }
   ],
   "source": [
    "from statsmodels.stats.proportion import proportions_ztest\n",
    "\n",
    "# Count clicks and total users by group\n",
    "clicks = user_df.groupby(\"group\")[\"clicked\"].sum()\n",
    "totals = user_df.groupby(\"group\")[\"clicked\"].count()\n",
    "\n",
    "# Run two-proportion z-test\n",
    "z_stat, p_val = proportions_ztest(count=clicks, nobs=totals)\n",
    "print(f\"Z-statistic: {z_stat}, P-value: {p_val}\")\n"
   ]
  },
  {
   "cell_type": "markdown",
   "metadata": {},
   "source": [
    "## Verifying Results\n",
    "\n",
    "One sensible formulation of the data to answer the hypothesis test above would be to create a binary variable representing each individual in the experiment and control group. This binary variable would represent whether or not that individual clicked on the homepage; 1 for they did and 0 if they did not. \n",
    "\n",
    "The variance for the number of successes in a sample of a binomial variable with n observations is given by:\n",
    "\n",
    "## $n\\bullet p (1-p)$\n",
    "\n",
    "Given this, perform 3 steps to verify the results of your statistical test:\n",
    "1. Calculate the expected number of clicks for the experiment group, if it had the same click-through rate as that of the control group. \n",
    "2. Calculate the number of standard deviations that the actual number of clicks was from this estimate. \n",
    "3. Finally, calculate a p-value using the normal distribution based on this z-score."
   ]
  },
  {
   "cell_type": "markdown",
   "metadata": {},
   "source": [
    "### Step 1:\n",
    "Calculate the expected number of clicks for the experiment group, if it had the same click-through rate as that of the control group. "
   ]
  },
  {
   "cell_type": "code",
   "execution_count": 3,
   "metadata": {},
   "outputs": [
    {
     "name": "stdout",
     "output_type": "stream",
     "text": [
      "Expected clicks in experiment group: 838.0168067226891\n",
      "Actual clicks in experiment group: 928\n"
     ]
    }
   ],
   "source": [
    "# Calculate click-through rates\n",
    "ctr_control = clicks[\"control\"] / totals[\"control\"]\n",
    "ctr_experiment = clicks[\"experiment\"] / totals[\"experiment\"]\n",
    "\n",
    "# Expected clicks for experiment if CTR was same as control\n",
    "expected_clicks_exp = totals[\"experiment\"] * ctr_control\n",
    "print(\"Expected clicks in experiment group:\", expected_clicks_exp)\n",
    "print(\"Actual clicks in experiment group:\", clicks[\"experiment\"])\n",
    "#Your code here"
   ]
  },
  {
   "cell_type": "markdown",
   "metadata": {},
   "source": [
    "### Step 2:\n",
    "Calculate the number of standard deviations that the actual number of clicks was from this estimate."
   ]
  },
  {
   "cell_type": "code",
   "execution_count": 4,
   "metadata": {},
   "outputs": [
    {
     "name": "stdout",
     "output_type": "stream",
     "text": [
      "Z-score: 3.6625360854823588\n"
     ]
    }
   ],
   "source": [
    "import numpy as np\n",
    "\n",
    "# Variance of binomial under control CTR\n",
    "std_dev = np.sqrt(totals[\"experiment\"] * ctr_control * (1 - ctr_control))\n",
    "\n",
    "# Z-score: how many standard deviations away the observed result is\n",
    "z_score = (clicks[\"experiment\"] - expected_clicks_exp) / std_dev\n",
    "print(\"Z-score:\", z_score)\n"
   ]
  },
  {
   "cell_type": "markdown",
   "metadata": {},
   "source": [
    "### Step 3: \n",
    "Finally, calculate a p-value using the normal distribution based on this z-score."
   ]
  },
  {
   "cell_type": "code",
   "execution_count": 5,
   "metadata": {},
   "outputs": [
    {
     "name": "stdout",
     "output_type": "stream",
     "text": [
      "P-value: 0.0002497305601389943\n"
     ]
    }
   ],
   "source": [
    "from scipy.stats import norm\n",
    "\n",
    "# Two-tailed test\n",
    "p_value = 2 * (1 - norm.cdf(abs(z_score)))\n",
    "print(\"P-value:\", p_value)\n"
   ]
  },
  {
   "cell_type": "markdown",
   "metadata": {},
   "source": [
    "### Analysis:\n",
    "\n",
    "Does this result roughly match that of the previous statistical test?\n",
    "\n",
    "> Comment: **YEs as they also reject the null hypothesis as the p value is significantly less than 0.05**"
   ]
  },
  {
   "cell_type": "markdown",
   "metadata": {},
   "source": [
    "## Summary\n",
    "\n",
    "In this lab, you continued to get more practice designing and conducting AB tests. This required additional work preprocessing and formulating the initial problem in a suitable manner. Additionally, you also saw how to verify results, strengthening your knowledge of binomial variables, and reviewing initial statistical concepts of the central limit theorem, standard deviation, z-scores, and their accompanying p-values."
   ]
  }
 ],
 "metadata": {
  "kernelspec": {
   "display_name": "Python 3",
   "language": "python",
   "name": "python3"
  },
  "language_info": {
   "codemirror_mode": {
    "name": "ipython",
    "version": 3
   },
   "file_extension": ".py",
   "mimetype": "text/x-python",
   "name": "python",
   "nbconvert_exporter": "python",
   "pygments_lexer": "ipython3",
   "version": "3.8.5"
  }
 },
 "nbformat": 4,
 "nbformat_minor": 2
}
